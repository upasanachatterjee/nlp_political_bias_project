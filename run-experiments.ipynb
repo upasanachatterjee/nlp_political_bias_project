{
 "cells": [
  {
   "cell_type": "code",
   "execution_count": null,
   "id": "04e8fe5b",
   "metadata": {
    "scrolled": true
   },
   "outputs": [],
   "source": [
    "%pip install dotenv\n",
    "%pip install datasets\n",
    "%pip install scikit-learn\n",
    "%pip install -r requirements.txt\n",
    "%load_ext autoreload\n",
    "%autoreload 2"
   ]
  },
  {
   "cell_type": "code",
   "execution_count": 4,
   "id": "05b3f6c4",
   "metadata": {},
   "outputs": [],
   "source": [
    "import torch\n",
    "import sys\n",
    "\n",
    "sys.path.append(\".\")"
   ]
  },
  {
   "cell_type": "code",
   "execution_count": 5,
   "id": "999e1054",
   "metadata": {},
   "outputs": [
    {
     "data": {
      "text/plain": [
       "device(type='cuda')"
      ]
     },
     "execution_count": 5,
     "metadata": {},
     "output_type": "execute_result"
    }
   ],
   "source": [
    "device = torch.device(\"cuda\" if torch.cuda.is_available() else \"cpu\")\n",
    "device"
   ]
  },
  {
   "cell_type": "code",
   "execution_count": 6,
   "id": "84114a30",
   "metadata": {},
   "outputs": [
    {
     "name": "stdout",
     "output_type": "stream",
     "text": [
      "CPU cores: 128\n"
     ]
    }
   ],
   "source": [
    "import os\n",
    "os.environ[\"PYTORCH_CUDA_ALLOC_CONF\"] = \"expandable_segments:True\"\n",
    "print(\"CPU cores:\", os.cpu_count())"
   ]
  },
  {
   "cell_type": "code",
   "execution_count": null,
   "id": "22f285bc",
   "metadata": {
    "scrolled": true
   },
   "outputs": [],
   "source": [
    "from huggingface_hub import login\n",
    "import os\n",
    "from dotenv import load_dotenv\n",
    "load_dotenv()\n",
    "\n",
    "# Use your token to log in\n",
    "login(token=os.getenv(\"hf_token\"))"
   ]
  },
  {
   "cell_type": "code",
   "execution_count": 10,
   "id": "a37c0eaf",
   "metadata": {},
   "outputs": [],
   "source": [
    "import sys\n",
    "sys.path.append('/utils')\n",
    "\n",
    "from utils.experiment_utils import BERT, BART, ROBERTA, POLITICS, run_experiment, DatasetConfig, ExperimentConfig\n",
    "import json"
   ]
  },
  {
   "cell_type": "code",
   "execution_count": null,
   "id": "aa2f5100",
   "metadata": {},
   "outputs": [],
   "source": [
    "def run_custom(model, loss):\n",
    "    # Model Selection (choose one)\n",
    "    MODEL = f\"{model}/epoch-1.pt\"\n",
    "    \n",
    "    # Output directory\n",
    "    OUTPUT_DIR = f\"{model}/\"\n",
    "    \n",
    "    # Dataset Configuration\n",
    "    DATASET_CONFIG = DatasetConfig(\n",
    "        custom_dataset=\"dragonslayer631/article-bias-prediction-media-splits-updated\",\n",
    "        theme=None,\n",
    "        k_means=None,\n",
    "        trunc=True,\n",
    "        sentiment=False,\n",
    "        no_undersampling=True,\n",
    "        media_split=True\n",
    "    )\n",
    "    \n",
    "    # Experiment Configuration\n",
    "    EXPERIMENT_CONFIG = ExperimentConfig(\n",
    "        loss_type=loss,  # Options: \"standard\", \"focal\", \"weighted_asymmetric_focal\"\n",
    "        focal_alpha=1.0,\n",
    "        focal_gamma=2.0,\n",
    "        gamma_pos=1.0,\n",
    "        gamma_neg=4.0,\n",
    "        patience=3,\n",
    "        save_model=False\n",
    "    )\n",
    "    \n",
    "\n",
    "    os.makedirs(OUTPUT_DIR, exist_ok=True)\n",
    "    \n",
    "    # Run the experiment\n",
    "    print(\"Starting experiment...\")\n",
    "    print(f\"Model: {MODEL}\")\n",
    "    print(f\"Loss type: {EXPERIMENT_CONFIG.loss_type}\")\n",
    "    print(f\"Output directory: {OUTPUT_DIR}\")\n",
    "    print(\"-\" * 50)\n",
    "    \n",
    "    try:\n",
    "        results = run_experiment(\n",
    "            model=MODEL,\n",
    "            loc=OUTPUT_DIR,\n",
    "            dataset_config=DATASET_CONFIG,\n",
    "            experiment_config=EXPERIMENT_CONFIG\n",
    "        )\n",
    "        print(\"Experiment completed successfully!\")\n",
    "        print(f\"Results saved to: {OUTPUT_DIR}\")\n",
    "        \n",
    "        if isinstance(results, dict) and len(results) > 1:\n",
    "            print(f\"Multiple theme results: {list(results.keys())}\")\n",
    "        \n",
    "    except Exception as e:\n",
    "        print(f\"Experiment failed with error: {str(e)}\")\n",
    "        raise e"
   ]
  },
  {
   "cell_type": "code",
   "execution_count": null,
   "id": "d0fdecf7-0011-473e-91ac-e3f30cb4b278",
   "metadata": {
    "scrolled": true
   },
   "outputs": [],
   "source": [
    "run_custom(\"triplet_mlm\", \"focal\")"
   ]
  },
  {
   "cell_type": "code",
   "execution_count": null,
   "id": "c1a9a1d0-761b-479e-958a-85646536e662",
   "metadata": {
    "scrolled": true
   },
   "outputs": [],
   "source": [
    "run_custom(\"triplet_mlm\", \"weighted_asymmetric_focal\")"
   ]
  },
  {
   "cell_type": "code",
   "execution_count": null,
   "id": "a2de7d46-d422-4fbb-8b45-677aaac87a5d",
   "metadata": {},
   "outputs": [],
   "source": [
    "run_custom(\"triplet_mlm_themes\", \"focal\")"
   ]
  },
  {
   "cell_type": "code",
   "execution_count": null,
   "id": "a213a56c-6e7e-4a5e-a924-6defc28e31d7",
   "metadata": {},
   "outputs": [],
   "source": [
    "run_custom(\"triplet_mlm_themes\", \"weighted_asymmetric_focal\")"
   ]
  }
 ],
 "metadata": {
  "kernelspec": {
   "display_name": "Python 3 (ipykernel)",
   "language": "python",
   "name": "python3"
  },
  "language_info": {
   "codemirror_mode": {
    "name": "ipython",
    "version": 3
   },
   "file_extension": ".py",
   "mimetype": "text/x-python",
   "name": "python",
   "nbconvert_exporter": "python",
   "pygments_lexer": "ipython3",
   "version": "3.11.13"
  }
 },
 "nbformat": 4,
 "nbformat_minor": 5
}
